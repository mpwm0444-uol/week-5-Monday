{
 "cells": [
  {
   "cell_type": "markdown",
   "metadata": {},
   "source": [
    "# Classes and Functions in Python\n",
    "## Date: February 23, 2025\n",
    "This notebook demonstrates the examples from a presentation on classes and functions in Python, covering object-oriented programming (OOP) principles and practical implementations."
   ]
  },
  {
   "cell_type": "markdown",
   "metadata": {},
   "source": []
  },
  {
   "cell_type": "markdown",
   "metadata": {},
   "source": [
    "## Introduction to a Simple Class\n",
    "We begin with the `Point` class, which represents a point in two-dimensional space defined by x and y coordinates."
   ]
  },
  {
   "cell_type": "markdown",
   "metadata": {},
   "source": [
    "### Defining the Point Class\n",
    "The `Point` class is defined with an `__init__` method to initialize x and y attributes, defaulting to 0 if no values are provided."
   ]
  },
  {
   "cell_type": "code",
   "execution_count": null,
   "metadata": {},
   "outputs": [],
   "source": [
    "class Point:\n",
    "    \"\"\"Represents a point in 2D space.\"\"\"\n",
    "    def __init__(self, x=0, y=0):\n",
    "        self.x = x\n",
    "        self.y = y"
   ]
  },
  {
   "cell_type": "markdown",
   "metadata": {},
   "source": [
    "### Utilizing the Point Class\n",
    "This example creates a `Point` instance at (3, 4) and accesses its coordinates."
   ]
  },
  {
   "cell_type": "code",
   "execution_count": null,
   "metadata": {},
   "outputs": [],
   "source": [
    "p = Point(3, 4)  # Creates a point at (3, 4)\n",
    "print(p.x)       # Outputs 3\n",
    "print(p.y)       # Outputs 4"
   ]
  },
  {
   "cell_type": "markdown",
   "metadata": {},
   "source": [
    "## Overview of Object-Oriented Programming\n",
    "Object-Oriented Programming (OOP) organizes code into objects that encapsulate data (attributes) and functionality (methods), enhancing modularity and structure."
   ]
  },
  {
   "cell_type": "markdown",
   "metadata": {},
   "source": [
    "## OOP Concept: Encapsulation\n",
    "Encapsulation restricts direct access to an object’s data, allowing interaction only through defined methods, ensuring data integrity and modular design."
   ]
  },
  {
   "cell_type": "markdown",
   "metadata": {},
   "source": [
    "## OOP Concept: Inheritance\n",
    "Inheritance enables a class to inherit attributes and methods from another, promoting code reuse. Below, we define a `Vehicle` base class and derived classes `Car` and `Motorcycle` to demonstrate this."
   ]
  },
  {
   "cell_type": "code",
   "execution_count": null,
   "metadata": {},
   "outputs": [],
   "source": [
    "class Vehicle:\n",
    "    def __init__(self):\n",
    "        self._started = False\n",
    "        self._speed = 0\n",
    "\n",
    "    def start(self):\n",
    "        self._started = True\n",
    "        print('Vehicle started')\n",
    "\n",
    "    def increase_speed(self, delta):\n",
    "        if self._started:\n",
    "            self._speed += delta\n",
    "            print(f'Speed increased to {self._speed}')\n",
    "        else:\n",
    "            print('Start the vehicle first!')\n",
    "\n",
    "    @property\n",
    "    def started(self):\n",
    "        return self._started\n",
    "\n",
    "    @property\n",
    "    def speed(self):\n",
    "        return self._speed\n",
    "\n",
    "class Car(Vehicle):\n",
    "    def __init__(self):\n",
    "        super().__init__()\n",
    "        self._trunk_open = False\n",
    "\n",
    "    def open_trunk(self):\n",
    "        self._trunk_open = True\n",
    "        print('Trunk opened')\n",
    "\n",
    "    def close_trunk(self):\n",
    "        self._trunk_open = False\n",
    "        print('Trunk closed')\n",
    "\n",
    "class Motorcycle(Vehicle):\n",
    "    def __init__(self):\n",
    "        super().__init__()\n",
    "        self._center_stand_out = True\n",
    "\n",
    "    def center_stand_out(self):\n",
    "        if not self._started:\n",
    "            self._center_stand_out = True\n",
    "            print('Center stand is out')\n",
    "        else:\n",
    "            print('Cannot extend center stand while started')\n",
    "\n",
    "    def retract_center_stand(self):\n",
    "        self._center_stand_out = False\n",
    "        print('Center stand retracted')"
   ]
  },
  {
   "cell_type": "markdown",
   "metadata": {},
   "source": [
    "### Testing Inheritance\n",
    "We test the `Car` and `Motorcycle` classes, showing inherited and unique behaviors."
   ]
  },
  {
   "cell_type": "code",
   "execution_count": null,
   "metadata": {},
   "outputs": [],
   "source": [
    "# Car example\n",
    "print('Car Example:')\n",
    "car = Car()\n",
    "print(car.started)         # False\n",
    "car.start()                # Vehicle started\n",
    "car.increase_speed(20)     # Speed increased to 20\n",
    "car.open_trunk()           # Trunk opened\n",
    "\n",
    "print('\\nMotorcycle Example:')\n",
    "moto = Motorcycle()\n",
    "moto.center_stand_out()    # Center stand is out\n",
    "moto.start()               # Vehicle started\n",
    "moto.increase_speed(15)    # Speed increased to 15"
   ]
  },
  {
   "cell_type": "markdown",
   "metadata": {},
   "source": [
    "## OOP Concept: Polymorphism\n",
    "Polymorphism allows different classes to implement methods with the same name in distinct ways. The `start` method is inherited but could be overridden differently in `Car` or `Motorcycle` if needed."
   ]
  },
  {
   "cell_type": "markdown",
   "metadata": {},
   "source": [
    "### Extending the Point Class with a Method\n",
    "The `Point` class is extended with a `move` method to adjust its position."
   ]
  },
  {
   "cell_type": "code",
   "execution_count": null,
   "metadata": {},
   "outputs": [],
   "source": [
    "class Point:\n",
    "    def __init__(self, x=0, y=0):\n",
    "        self.x = x\n",
    "        self.y = y\n",
    "    \n",
    "    def move(self, dx, dy):\n",
    "        self.x += dx\n",
    "        self.y += dy"
   ]
  },
  {
   "cell_type": "code",
   "execution_count": null,
   "metadata": {},
   "outputs": [],
   "source": [
    "p = Point(3, 4)\n",
    "print(f'Initial: ({p.x}, {p.y})')\n",
    "p.move(1, 2)\n",
    "print(f'After move(1, 2): ({p.x}, {p.y})')"
   ]
  },
  {
   "cell_type": "markdown",
   "metadata": {},
   "source": [
    "## Defining the Time Class\n",
    "The `Time` class models a time instance with hour, minute, and second attributes."
   ]
  },
  {
   "cell_type": "code",
   "execution_count": null,
   "metadata": {},
   "outputs": [],
   "source": [
    "class Time:\n",
    "    def __init__(self, hour=0, minute=0, second=0):\n",
    "        self.hour = hour\n",
    "        self.minute = minute\n",
    "        self.second = second"
   ]
  },
  {
   "cell_type": "markdown",
   "metadata": {},
   "source": [
    "### Adding a Display Method to Time\n",
    "The `print_time` method formats and displays the time."
   ]
  },
  {
   "cell_type": "code",
   "execution_count": null,
   "metadata": {},
   "outputs": [],
   "source": [
    "class Time:\n",
    "    def __init__(self, hour=0, minute=0, second=0):\n",
    "        self.hour = hour\n",
    "        self.minute = minute\n",
    "        self.second = second\n",
    "    \n",
    "    def print_time(self):\n",
    "        print(f'{self.hour:02d}:{self.minute:02d}:{self.second:02d}')"
   ]
  },
  {
   "cell_type": "code",
   "execution_count": null,
   "metadata": {},
   "outputs": [],
   "source": [
    "t = Time(9, 45, 0)\n",
    "t.print_time()  # Outputs 09:45:00"
   ]
  },
  {
   "cell_type": "markdown",
   "metadata": {},
   "source": []
  },
  {
   "cell_type": "code",
   "execution_count": null,
   "metadata": {},
   "outputs": [],
   "source": [
    "# Define the AlarmTime subclass to demonstrate polymorphism\n",
    "class AlarmTime(Time):\n",
    "    def print_time(self):\n",
    "        \"\"\"Override print_time to indicate an alarm setting.\"\"\"\n",
    "        print(f\"Alarm set for {self.hour:02d}:{self.minute:02d}:{self.second:02d}\")"
   ]
  },
  {
   "cell_type": "markdown",
   "metadata": {},
   "source": [
    "### Converting Time to Seconds\n",
    "The `time_to_int` method converts the time to total seconds."
   ]
  },
  {
   "cell_type": "code",
   "execution_count": null,
   "metadata": {},
   "outputs": [],
   "source": [
    "class Time:\n",
    "    def __init__(self, hour=0, minute=0, second=0):\n",
    "        self.hour = hour\n",
    "        self.minute = minute\n",
    "        self.second = second\n",
    "    \n",
    "    def print_time(self):\n",
    "        print(f'{self.hour:02d}:{self.minute:02d}:{self.second:02d}')\n",
    "    \n",
    "    def time_to_int(self):\n",
    "        minutes = self.hour * 60 + self.minute\n",
    "        seconds = minutes * 60 + self.second\n",
    "        return seconds"
   ]
  },
  {
   "cell_type": "code",
   "execution_count": null,
   "metadata": {},
   "outputs": [],
   "source": [
    "t = Time(1, 30, 0)\n",
    "seconds = t.time_to_int()\n",
    "print(f'01:30:00 converts to {seconds} seconds')"
   ]
  },
  {
   "cell_type": "markdown",
   "metadata": {},
   "source": [
    "### Comparing Time Instances\n",
    "The `is_after` method compares two time instances."
   ]
  },
  {
   "cell_type": "code",
   "execution_count": null,
   "metadata": {},
   "outputs": [],
   "source": [
    "class Time:\n",
    "    def __init__(self, hour=0, minute=0, second=0):\n",
    "        self.hour = hour\n",
    "        self.minute = minute\n",
    "        self.second = second\n",
    "    \n",
    "    def print_time(self):\n",
    "        print(f'{self.hour:02d}:{self.minute:02d}:{self.second:02d}')\n",
    "    \n",
    "    def time_to_int(self):\n",
    "        minutes = self.hour * 60 + self.minute\n",
    "        seconds = minutes * 60 + self.second\n",
    "        return seconds\n",
    "    \n",
    "    def is_after(self, other):\n",
    "        return self.time_to_int() > other.time_to_int()"
   ]
  },
  {
   "cell_type": "code",
   "execution_count": null,
   "metadata": {},
   "outputs": [],
   "source": [
    "t1 = Time(10, 0, 0)\n",
    "t2 = Time(9, 45, 0)\n",
    "result = t1.is_after(t2)\n",
    "print(f'Is 10:00:00 after 09:45:00? {result}')"
   ]
  },
  {
   "cell_type": "markdown",
   "metadata": {},
   "source": [
    "### Basic Time Addition Function\n",
    "This function adds two `Time` objects but does not handle overflow."
   ]
  },
  {
   "cell_type": "code",
   "execution_count": null,
   "metadata": {},
   "outputs": [],
   "source": [
    "def add_time(t1, t2):\n",
    "    total = Time()\n",
    "    total.hour = t1.hour + t2.hour\n",
    "    total.minute = t1.minute + t2.minute\n",
    "    total.second = t1.second + t2.second\n",
    "    return total"
   ]
  },
  {
   "cell_type": "code",
   "execution_count": null,
   "metadata": {},
   "outputs": [],
   "source": [
    "t1 = Time(1, 30, 0)\n",
    "t2 = Time(0, 40, 0)\n",
    "total = add_time(t1, t2)\n",
    "total.print_time()  # Outputs 01:70:00 (incorrect)"
   ]
  },
  {
   "cell_type": "markdown",
   "metadata": {},
   "source": [
    "### Improved Time Addition Function\n",
    "This refined version converts times to seconds, adds them, and handles overflow correctly."
   ]
  },
  {
   "cell_type": "code",
   "execution_count": null,
   "metadata": {},
   "outputs": [],
   "source": [
    "def add_time(t1, t2):\n",
    "    seconds = t1.time_to_int() + t2.time_to_int()\n",
    "    total = Time()\n",
    "    total.hour = seconds // 3600\n",
    "    remaining = seconds % 3600\n",
    "    total.minute = remaining // 60\n",
    "    total.second = remaining % 60\n",
    "    return total"
   ]
  },
  {
   "cell_type": "code",
   "execution_count": null,
   "metadata": {},
   "outputs": [],
   "source": [
    "t1 = Time(1, 30, 0)\n",
    "t2 = Time(0, 40, 0)\n",
    "total = add_time(t1, t2)\n",
    "total.print_time()  # Outputs 02:10:00 (correct)"
   ]
  },
  {
   "cell_type": "markdown",
   "metadata": {},
   "source": [
    "## Conclusion\n",
    "This notebook explored classes and functions in Python, demonstrating encapsulation, inheritance, and polymorphism through practical examples like the `Point` and `Time` classes, as well as vehicle inheritance."
   ]
  }
 ],
 "metadata": {
  "kernelspec": {
   "display_name": "Python 3",
   "language": "python",
   "name": "python3"
  },
  "language_info": {
   "codemirror_mode": {
    "name": "ipython",
    "version": 3
   },
   "file_extension": ".py",
   "mimetype": "text/x-python",
   "name": "python",
   "nbconvert_exporter": "python",
   "pygments_lexer": "ipython3",
   "version": "3.13.2"
  }
 },
 "nbformat": 4,
 "nbformat_minor": 4
}
